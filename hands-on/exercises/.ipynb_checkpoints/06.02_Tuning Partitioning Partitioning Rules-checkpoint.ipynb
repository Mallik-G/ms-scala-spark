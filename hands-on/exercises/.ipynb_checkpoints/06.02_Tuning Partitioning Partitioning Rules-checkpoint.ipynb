{
 "cells": [
  {
   "cell_type": "markdown",
   "metadata": {},
   "source": [
    "![DataStax Academy](https://s3.amazonaws.com/datastaxtraining/vq8Jr36Gk48v/datastax-academy.svg \"DataStax Academy\")"
   ]
  },
  {
   "cell_type": "markdown",
   "metadata": {},
   "source": [
    "# Exercise 19 - Tuning Partitioning: Partitioning Rules"
   ]
  },
  {
   "cell_type": "markdown",
   "metadata": {},
   "source": [
    "## Background"
   ]
  },
  {
   "cell_type": "markdown",
   "metadata": {},
   "source": [
    "In this exercise, you'll be exploring partitioning properties for RDDs created from different sources and transformations.\n",
    "\n",
    "You'll be working with the `videos` table:"
   ]
  },
  {
   "cell_type": "raw",
   "metadata": {},
   "source": [
    "CREATE TABLE killr_video.videos (\n",
    "    video_id TIMEUUID,\n",
    "    avg_rating FLOAT,\n",
    "    description TEXT,\n",
    "    genres SET<TEXT>,\n",
    "    mpaa_rating TEXT,\n",
    "    release_date TIMESTAMP,\n",
    "    release_year INT,\n",
    "    title TEXT,\n",
    "    user_id UUID,\n",
    "    PRIMARY KEY (video_id)\n",
    ");"
   ]
  },
  {
   "cell_type": "markdown",
   "metadata": {},
   "source": [
    "and a text file, `/root/data/video-ids.csv`, which contains only one column: the video IDs for different movies. Some of the video IDs are orphaned, i.e. not in the `killrvideo.videos` table."
   ]
  },
  {
   "cell_type": "markdown",
   "metadata": {},
   "source": [
    "***"
   ]
  },
  {
   "cell_type": "markdown",
   "metadata": {},
   "source": [
    "## Directions"
   ]
  },
  {
   "cell_type": "markdown",
   "metadata": {},
   "source": [
    "#### 1. Create an RDD from the text file. Hint: map() each row to a UUID via java.util.UUID.fromString(). What do you expect the partitioner and number of partitions to be? Why? Write Scala code to discover the actual values. Were they what you expected them to be? Why or why not?"
   ]
  },
  {
   "cell_type": "code",
   "execution_count": null,
   "metadata": {
    "collapsed": false
   },
   "outputs": [],
   "source": []
  },
  {
   "cell_type": "markdown",
   "metadata": {},
   "source": [
    "#### 2. Create an RDD from the killrvideo.videos table select()ing only the videoids. What do you expect the partitioner and number of partitions to be? Why? Write Scala code to discover the actual values. Were they what you expected them to be? Why or why not?"
   ]
  },
  {
   "cell_type": "code",
   "execution_count": null,
   "metadata": {
    "collapsed": false
   },
   "outputs": [],
   "source": []
  },
  {
   "cell_type": "markdown",
   "metadata": {},
   "source": [
    "#### 3. Find the orphaned video IDs by using subtract(). What do you expect the partitioner and number of partitions to be? Why? Write Scala code to discover the actual values. Were they what you expected them to be? Why or why not?"
   ]
  },
  {
   "cell_type": "code",
   "execution_count": null,
   "metadata": {
    "collapsed": false
   },
   "outputs": [],
   "source": []
  },
  {
   "cell_type": "markdown",
   "metadata": {},
   "source": [
    "#### 4. Turn your RDD into a RDD of keys via keyBy() then sort using sortByKey(). What do you expect the partitioner and number of partitions to be? Why? Write Scala code to discover the actual values. Were they what you expected them to be? Why or why not?"
   ]
  },
  {
   "cell_type": "code",
   "execution_count": null,
   "metadata": {
    "collapsed": false
   },
   "outputs": [],
   "source": []
  },
  {
   "cell_type": "markdown",
   "metadata": {},
   "source": [
    "#### 5. Display the resulting orphaned video IDs."
   ]
  },
  {
   "cell_type": "code",
   "execution_count": null,
   "metadata": {
    "collapsed": false
   },
   "outputs": [],
   "source": []
  }
 ],
 "metadata": {
  "kernelspec": {
   "display_name": "Spark-DSE Cluster",
   "language": "scala",
   "name": "spark-dse-cluster"
  },
  "language_info": {
   "name": "scala"
  }
 },
 "nbformat": 4,
 "nbformat_minor": 0
}
